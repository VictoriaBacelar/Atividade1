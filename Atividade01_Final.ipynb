{
 "cells": [
  {
   "cell_type": "code",
   "execution_count": 16,
   "metadata": {},
   "outputs": [
    {
     "name": "stdout",
     "output_type": "stream",
     "text": [
      "[105 125 150 175 195]\n",
      "[10 11 12 13 14 15 16 17 18 19]\n",
      "[False False  True False False  True False False  True False]\n",
      "[12 15 18]\n",
      "Coversão do número para binário:  101101.1\n"
     ]
    },
    {
     "data": {
      "image/png": "[encoded data removed]",
      "text/plain": [
       "<Figure size 432x288 with 1 Axes>"
      ]
     },
     "metadata": {},
     "output_type": "display_data"
    },
    {
     "data": {
      "image/png": "[encoded data removed]",
      "text/plain": [
       "<Figure size 432x288 with 1 Axes>"
      ]
     },
     "metadata": {},
     "output_type": "display_data"
    }
   ],
   "source": [
    "import numpy as numpy\n",
    "import matplotlib.pyplot as plt\n",
    "\n",
    "#------------------------------------------------------------\n",
    "\n",
    "arr = numpy.arange(100, 200)\n",
    "select = [5, 25, 50, 75, -5]\n",
    "\n",
    "#irá gerar valores aleatórios ente 100 e 200 com especificações do select\n",
    "print(arr[select]) \n",
    "[105, 125, 150, 175, 195]\n",
    "arr = numpy.arange(10, 20) #numeros aleatórios de 10 a 20\n",
    "print(arr)\n",
    "\n",
    "#se o resto de cada elemento do arr, dividido por 3, da resto zero\n",
    "div_by_3 = arr%3 == 0 \n",
    "print(div_by_3)\n",
    "[ False, False, True, False, False, True, False, False, True, False]\n",
    "\n",
    "#Os valores boleanos são usados como indices, imprimindo apenas os valores verdadeiros\n",
    "print(arr[div_by_3]) \n",
    "[12, 15, 18]\n",
    "arr = numpy.arange(10, 20) . reshape((2,5))\n",
    "[[10, 11, 12, 13, 14],\n",
    "[15, 16, 17, 18, 19]]\n",
    "\n",
    "#--------------------------------------------------------\n",
    "\n",
    "def converter(n): #função para converter para binário \n",
    "    inteira = int(n) #apenas a parte inteira do numero\n",
    "    frac = float(n) - int(n) #apenas a parte fracionada\n",
    "    binarioint = []\n",
    "    binariofrac = []\n",
    "\n",
    "    while(inteira != 0 ): #enquanto a parte inteira for dirente de 0\n",
    "        a = inteira % 2\n",
    "        binarioint.append(a) #adiciona na array o resto da divisão \n",
    "        inteira = int(inteira/2) #novo valor de \"inteira\" é a divisão inteira do valor inicial\n",
    "        \n",
    "    binarioint.reverse()\n",
    "    \n",
    "    while(frac != 0.0 ): #enquanto a parte fracionada for dirente de 0.0\n",
    "        a = frac * 2 #multiplicação da parte fracionada por dois\n",
    "        b = int(a) #b é apenas a parte inteira da multiplicação \n",
    "        c = float(a) - int(a) #c é apenas a parte fracionada da multiplicação\n",
    "        binariofrac.append(b) #a parte inteira(b) é armazenada na array\n",
    "        frac = c #a parte fracionada agora é c\n",
    "    \n",
    "    conver_fin = binarioint + ['.'] + binariofrac #concatena os dois array \n",
    "    conver_fin = [str(i) for i in conver_fin]\n",
    "    conver_fin = ''.join(conver_fin) #todos os elementos são postos juntos\n",
    "    return(conver_fin)\n",
    "    \n",
    "print(\"Coversão do número para binário: \",converter(45.5))\n",
    "\n",
    "#---------------------------------------------------------------\n",
    "\n",
    "#comandos para a criação das retas\n",
    "plt.plot([1,2,3,4]) #reta azul, com as coordenadas de x\n",
    "plt.plot([2,3,4,5]) #reta laranja, com as coordenadas de x\n",
    "\n",
    "plt.show()\n",
    "\n",
    "plt.plot([5,6,7,8]) #reta azul, com as coordenadas de x\n",
    "plt.plot([8,7,6,5]) #reta laranja, com as coordenadas de x\n",
    "\n",
    "plt.show()\n",
    "\n"
   ]
  },
  {
   "cell_type": "code",
   "execution_count": null,
   "metadata": {},
   "outputs": [],
   "source": []
  },
  {
   "cell_type": "code",
   "execution_count": null,
   "metadata": {},
   "outputs": [],
   "source": []
  },
  {
   "cell_type": "code",
   "execution_count": null,
   "metadata": {},
   "outputs": [],
   "source": []
  },
  {
   "cell_type": "code",
   "execution_count": null,
   "metadata": {},
   "outputs": [],
   "source": []
  },
  {
   "cell_type": "code",
   "execution_count": null,
   "metadata": {},
   "outputs": [],
   "source": []
  },
  {
   "cell_type": "code",
   "execution_count": null,
   "metadata": {},
   "outputs": [],
   "source": []
  },
  {
   "cell_type": "code",
   "execution_count": null,
   "metadata": {},
   "outputs": [],
   "source": []
  },
  {
   "cell_type": "code",
   "execution_count": null,
   "metadata": {},
   "outputs": [],
   "source": []
  },
  {
   "cell_type": "code",
   "execution_count": null,
   "metadata": {},
   "outputs": [],
   "source": []
  },
  {
   "cell_type": "code",
   "execution_count": null,
   "metadata": {},
   "outputs": [],
   "source": []
  },
  {
   "cell_type": "code",
   "execution_count": null,
   "metadata": {},
   "outputs": [],
   "source": []
  },
  {
   "cell_type": "code",
   "execution_count": null,
   "metadata": {},
   "outputs": [],
   "source": []
  },
  {
   "cell_type": "code",
   "execution_count": null,
   "metadata": {},
   "outputs": [],
   "source": []
  },
  {
   "cell_type": "code",
   "execution_count": null,
   "metadata": {},
   "outputs": [],
   "source": []
  }
 ],
 "metadata": {
  "kernelspec": {
   "display_name": "Python 3",
   "language": "python",
   "name": "python3"
  },
  "language_info": {
   "codemirror_mode": {
    "name": "ipython",
    "version": 3
   },
   "file_extension": ".py",
   "mimetype": "text/x-python",
   "name": "python",
   "nbconvert_exporter": "python",
   "pygments_lexer": "ipython3",
   "version": "3.6.5"
  }
 },
 "nbformat": 4,
 "nbformat_minor": 2
}
